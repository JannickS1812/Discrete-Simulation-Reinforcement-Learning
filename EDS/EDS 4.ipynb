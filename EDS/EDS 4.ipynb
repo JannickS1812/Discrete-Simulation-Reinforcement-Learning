{
 "cells": [
  {
   "cell_type": "code",
   "execution_count": 7,
   "id": "b79e7712",
   "metadata": {},
   "outputs": [
    {
     "name": "stdout",
     "output_type": "stream",
     "text": [
      "[[ 4 14  2  4 18  2 18]\n",
      " [11  6 19 17 14  8  3]\n",
      " [10  7 10  3  5 15  9]\n",
      " [14 17 19  1 12 13 13]] \n",
      "\n",
      "[[ 4  4 18]\n",
      " [10  3  9]]\n"
     ]
    }
   ],
   "source": [
    "import numpy as np\n",
    "import pandas as pd\n",
    "from pprint import pprint\n",
    "import matplotlib.pyplot as plt\n",
    "import matplotlib.image as mpimg\n",
    "import time\n",
    "from scipy.stats import gaussian_kde\n",
    "\n",
    "arr = np.random.randint(20, size=(4,7))\n",
    "\n",
    "print(arr, '\\n')\n",
    "print(arr[::2, ::3])"
   ]
  },
  {
   "cell_type": "code",
   "execution_count": 2,
   "id": "f2c109d3",
   "metadata": {},
   "outputs": [
    {
     "name": "stdout",
     "output_type": "stream",
     "text": [
      "{(0, 0): array([25, 23,  3, 16,  2, 21]),\n",
      " (0, 1): array([22,  9, 14,  2, 14,  3]),\n",
      " (0, 2): array([22,  1,  8, 25, 11,  9]),\n",
      " (1, 0): array([17,  3, 19, 10, 13,  7]),\n",
      " (1, 1): array([25, 25,  2,  1,  1,  2]),\n",
      " (1, 2): array([24,  8, 10, 10,  3, 22]),\n",
      " (2, 0): array([16, 21,  8, 25, 23,  1]),\n",
      " (2, 1): array([26,  4, 19,  9, 14, 16]),\n",
      " (2, 2): array([ 5,  9, 26,  3,  6, 19])}\n"
     ]
    }
   ],
   "source": [
    "cube_to_dict = lambda cube: {(x, y): cube[x,y] for x in range(cube.shape[0]) for y in range(cube.shape[1])}\n",
    "\n",
    "pprint(cube_to_dict(np.random.randint(27, size=(3,3,6))))"
   ]
  },
  {
   "cell_type": "code",
   "execution_count": 3,
   "id": "a7404264",
   "metadata": {},
   "outputs": [
    {
     "name": "stdout",
     "output_type": "stream",
     "text": [
      "{(0, 0): array([19, 24, 20, 20, 24, 11]),\n",
      " (0, 1): array([23,  9, 14, 26,  0, 20]),\n",
      " (0, 2): array([ 7, 13, 24,  1, 15, 13]),\n",
      " (1, 0): array([ 2, 11, 24, 10, 17, 19]),\n",
      " (1, 1): array([14, 26, 15, 22,  0, 13]),\n",
      " (1, 2): array([10, 23, 12, 19, 23,  5]),\n",
      " (2, 0): array([13, 13, 20,  1, 15, 16]),\n",
      " (2, 1): array([ 1,  6,  9, 18,  0, 25]),\n",
      " (2, 2): array([21, 25,  9,  0, 20, 23])}\n"
     ]
    }
   ],
   "source": [
    "from itertools import product\n",
    "\n",
    "cube_to_dict = lambda cube: {tup: cube[tup] for tup in product(range(cube.shape[0]), range(cube.shape[1]))}\n",
    "\n",
    "pprint(cube_to_dict(np.random.randint(27, size=(3,3,6))))"
   ]
  },
  {
   "cell_type": "code",
   "execution_count": 4,
   "id": "7988d195",
   "metadata": {},
   "outputs": [
    {
     "name": "stdout",
     "output_type": "stream",
     "text": [
      "['23:35:21 - 23.4°' '15:32:57 - 16.3°' '11:48:23 - 25.7°']\n"
     ]
    }
   ],
   "source": [
    "dtype = np.dtype([('hour', 'i4'), ('min', 'i4'), ('sec', 'i4'), ('temperature', 'f8')])\n",
    "\n",
    "\n",
    "arr = np.array([(23, 35, 21, 23.4),\n",
    "                (15, 32, 57, 16.3),\n",
    "                (11, 48, 23, 25.7)], dtype=dtype)\n",
    "\n",
    "\n",
    "to_pretty_string = lambda arr: np.array([f'{elem[\"hour\"]}:{elem[\"min\"]}:{elem[\"sec\"]} - {elem[\"temperature\"]:.1f}°' for elem in arr]).T\n",
    "\n",
    "print(to_pretty_string(arr))"
   ]
  },
  {
   "cell_type": "code",
   "execution_count": 5,
   "id": "2973db45",
   "metadata": {},
   "outputs": [
    {
     "name": "stdout",
     "output_type": "stream",
     "text": [
      "[[  0  34 123 235 463 645 998]\n",
      " [ 34   0  89 201 429 611 964]\n",
      " [123  89   0 112 340 522 875]\n",
      " [235 201 112   0 228 410 763]\n",
      " [463 429 340 228   0 182 535]\n",
      " [645 611 522 410 182   0 353]\n",
      " [998 964 875 763 535 353   0]]\n"
     ]
    }
   ],
   "source": [
    "dist_to_barcelona = np.array([0, 34, 123, 235, 463, 645, 998])\n",
    "\n",
    "distances = abs(dist_to_barcelona[:, np.newaxis] - dist_to_barcelona[np.newaxis, :])\n",
    "\n",
    "print(distances)"
   ]
  },
  {
   "cell_type": "code",
   "execution_count": 6,
   "id": "a0171d11",
   "metadata": {},
   "outputs": [
    {
     "data": {
      "text/plain": [
       "array([3, 4, 3, 4, 3, 6, 3, 4, 4, 3, 4])"
      ]
     },
     "execution_count": 6,
     "metadata": {},
     "output_type": "execute_result"
    }
   ],
   "source": [
    "arr = np.array([3,4,6,10,24,89,45,43,46,99,100])\n",
    "\n",
    "arr[arr % 3]"
   ]
  },
  {
   "cell_type": "code",
   "execution_count": 7,
   "id": "95da1827",
   "metadata": {},
   "outputs": [
    {
     "name": "stdout",
     "output_type": "stream",
     "text": [
      "Split: 79.7% Train, 20.3% Test\n"
     ]
    },
    {
     "data": {
      "image/png": "[encoded data removed]",
      "text/plain": [
       "<Figure size 432x288 with 1 Axes>"
      ]
     },
     "metadata": {
      "needs_background": "light"
     },
     "output_type": "display_data"
    }
   ],
   "source": [
    "scale = 0.1\n",
    "num_points = 10000\n",
    "\n",
    "x = np.linspace(-2*np.pi, 2*np.pi, num_points)\n",
    "y = np.sin(x) + np.random.normal(scale=scale, size=num_points)\n",
    "\n",
    "msk = np.random.rand(num_points) < 0.8\n",
    "x_train, y_train = x[msk], y[msk]\n",
    "x_test, y_test = x[~msk], y[~msk]\n",
    "\n",
    "print(f'Split: {x_train.shape[0] / num_points * 100:.1f}% Train, {x_test.shape[0] / num_points * 100:.1f}% Test')\n",
    "\n",
    "plt.plot(x_train, y_train, label='Train') \n",
    "plt.plot(x_test, y_test, label='Test')\n",
    "plt.legend()\n",
    "plt.show()"
   ]
  },
  {
   "cell_type": "code",
   "execution_count": 8,
   "id": "20c7d0c1",
   "metadata": {},
   "outputs": [
    {
     "ename": "FileNotFoundError",
     "evalue": "[Errno 2] No such file or directory: 'Downloads\\\\colombia.png'",
     "output_type": "error",
     "traceback": [
      "\u001b[1;31m---------------------------------------------------------------------------\u001b[0m",
      "\u001b[1;31mFileNotFoundError\u001b[0m                         Traceback (most recent call last)",
      "Input \u001b[1;32mIn [8]\u001b[0m, in \u001b[0;36m<cell line: 2>\u001b[1;34m()\u001b[0m\n\u001b[0;32m      1\u001b[0m plt\u001b[38;5;241m.\u001b[39mfigure(\u001b[38;5;241m1\u001b[39m)\n\u001b[1;32m----> 2\u001b[0m colombia \u001b[38;5;241m=\u001b[39m \u001b[43mmpimg\u001b[49m\u001b[38;5;241;43m.\u001b[39;49m\u001b[43mimread\u001b[49m\u001b[43m(\u001b[49m\u001b[38;5;124;43m'\u001b[39;49m\u001b[38;5;124;43mDownloads\u001b[39;49m\u001b[38;5;124;43m\\\u001b[39;49m\u001b[38;5;124;43mcolombia.png\u001b[39;49m\u001b[38;5;124;43m'\u001b[39;49m\u001b[43m)\u001b[49m\n\u001b[0;32m      3\u001b[0m plt\u001b[38;5;241m.\u001b[39mimshow(colombia)\n\u001b[0;32m      4\u001b[0m new_colombia \u001b[38;5;241m=\u001b[39m np\u001b[38;5;241m.\u001b[39mcopy(colombia)\n",
      "File \u001b[1;32m~\\anaconda3\\envs\\master\\lib\\site-packages\\matplotlib\\image.py:1560\u001b[0m, in \u001b[0;36mimread\u001b[1;34m(fname, format)\u001b[0m\n\u001b[0;32m   1558\u001b[0m                 response \u001b[38;5;241m=\u001b[39m io\u001b[38;5;241m.\u001b[39mBytesIO(response\u001b[38;5;241m.\u001b[39mread())\n\u001b[0;32m   1559\u001b[0m             \u001b[38;5;28;01mreturn\u001b[39;00m imread(response, \u001b[38;5;28mformat\u001b[39m\u001b[38;5;241m=\u001b[39mext)\n\u001b[1;32m-> 1560\u001b[0m \u001b[38;5;28;01mwith\u001b[39;00m \u001b[43mimg_open\u001b[49m\u001b[43m(\u001b[49m\u001b[43mfname\u001b[49m\u001b[43m)\u001b[49m \u001b[38;5;28;01mas\u001b[39;00m image:\n\u001b[0;32m   1561\u001b[0m     \u001b[38;5;28;01mreturn\u001b[39;00m (_pil_png_to_float_array(image)\n\u001b[0;32m   1562\u001b[0m             \u001b[38;5;28;01mif\u001b[39;00m \u001b[38;5;28misinstance\u001b[39m(image, PIL\u001b[38;5;241m.\u001b[39mPngImagePlugin\u001b[38;5;241m.\u001b[39mPngImageFile) \u001b[38;5;28;01melse\u001b[39;00m\n\u001b[0;32m   1563\u001b[0m             pil_to_array(image))\n",
      "File \u001b[1;32m~\\anaconda3\\envs\\master\\lib\\site-packages\\PIL\\ImageFile.py:100\u001b[0m, in \u001b[0;36mImageFile.__init__\u001b[1;34m(self, fp, filename)\u001b[0m\n\u001b[0;32m     96\u001b[0m \u001b[38;5;28mself\u001b[39m\u001b[38;5;241m.\u001b[39mdecodermaxblock \u001b[38;5;241m=\u001b[39m MAXBLOCK\n\u001b[0;32m     98\u001b[0m \u001b[38;5;28;01mif\u001b[39;00m isPath(fp):\n\u001b[0;32m     99\u001b[0m     \u001b[38;5;66;03m# filename\u001b[39;00m\n\u001b[1;32m--> 100\u001b[0m     \u001b[38;5;28mself\u001b[39m\u001b[38;5;241m.\u001b[39mfp \u001b[38;5;241m=\u001b[39m \u001b[38;5;28;43mopen\u001b[39;49m\u001b[43m(\u001b[49m\u001b[43mfp\u001b[49m\u001b[43m,\u001b[49m\u001b[43m \u001b[49m\u001b[38;5;124;43m\"\u001b[39;49m\u001b[38;5;124;43mrb\u001b[39;49m\u001b[38;5;124;43m\"\u001b[39;49m\u001b[43m)\u001b[49m\n\u001b[0;32m    101\u001b[0m     \u001b[38;5;28mself\u001b[39m\u001b[38;5;241m.\u001b[39mfilename \u001b[38;5;241m=\u001b[39m fp\n\u001b[0;32m    102\u001b[0m     \u001b[38;5;28mself\u001b[39m\u001b[38;5;241m.\u001b[39m_exclusive_fp \u001b[38;5;241m=\u001b[39m \u001b[38;5;28;01mTrue\u001b[39;00m\n",
      "\u001b[1;31mFileNotFoundError\u001b[0m: [Errno 2] No such file or directory: 'Downloads\\\\colombia.png'"
     ]
    },
    {
     "data": {
      "text/plain": [
       "<Figure size 432x288 with 0 Axes>"
      ]
     },
     "metadata": {},
     "output_type": "display_data"
    }
   ],
   "source": [
    "plt.figure(1)\n",
    "colombia = mpimg.imread('Downloads\\colombia.png')\n",
    "plt.imshow(colombia)\n",
    "new_colombia = np.copy(colombia)\n",
    "\n",
    "\n",
    "num_trials = 10\n",
    "len_x = new_colombia.shape[0]\n",
    "len_y = new_colombia.shape[1]\n",
    "history = []\n",
    "\n",
    "for i in range(num_trials):\n",
    "\n",
    "    print(f'{i+1}. Trial')\n",
    "    t = time.time()\n",
    "    for x in range(len_x):\n",
    "        for y in range(len_y):\n",
    "            new_colombia[x, y, 0] = max(1-(x / (len_x/2)-1)**2 - (y / (len_y/2)-1)**2, 0)\n",
    "    t1 = time.time() - t\n",
    "\n",
    "    t = time.time()\n",
    "    mesh_y, mesh_x = np.meshgrid(np.arange(len_y), np.arange(len_x))\n",
    "    new_colombia[:, :, 0] = np.maximum(1-(mesh_x / (len_x/2)-1)**2 - (mesh_y / (len_y/2)-1)**2, 0)\n",
    "    t2 = time.time() - t\n",
    "    \n",
    "    history.append([t1, t2])\n",
    "\n",
    "history = np.array(history)\n",
    "print('\\nAverages:')\n",
    "print(f' for-loop: {np.mean(history[:, 0]):.3f}')\n",
    "print(f' vectorized: {np.mean(history[:, 1]):.3f}')\n",
    "print(f' factor: {np.mean(history[:, 0] / history[:, 1]):.3f}')\n",
    "\n",
    "plt.figure(2)\n",
    "plt.imshow(new_colombia)\n",
    "plt.show()"
   ]
  },
  {
   "cell_type": "code",
   "execution_count": 9,
   "id": "db909c3b",
   "metadata": {},
   "outputs": [
    {
     "name": "stdout",
     "output_type": "stream",
     "text": [
      "Cologne    1056000\n",
      "Berlin     3451000\n",
      "Hamburg    1841000\n",
      "dtype: int64\n",
      "\n",
      "Cologne    1419175\n",
      "Berlin     4637855\n",
      "Hamburg    2474150\n",
      "dtype: int64\n"
     ]
    }
   ],
   "source": [
    "cities = {'Cologne': 1056000, 'Berlin': 3451000, 'Hamburg': 1841000}\n",
    "\n",
    "s = pd.Series(cities.values(), cities.keys())\n",
    "\n",
    "def exp_growth(count, p, m):\n",
    "    return int(count * (1 + p/100)**m)\n",
    "\n",
    "print(s)\n",
    "\n",
    "s = s.apply(exp_growth, args=(3,10))\n",
    "\n",
    "print()\n",
    "print(s)\n"
   ]
  },
  {
   "cell_type": "code",
   "execution_count": 10,
   "id": "a1b5f18d",
   "metadata": {},
   "outputs": [
    {
     "data": {
      "text/plain": [
       "<AxesSubplot:>"
      ]
     },
     "execution_count": 10,
     "metadata": {},
     "output_type": "execute_result"
    },
    {
     "data": {
      "image/png": "[encoded data removed]",
      "text/plain": [
       "<Figure size 432x288 with 1 Axes>"
      ]
     },
     "metadata": {
      "needs_background": "light"
     },
     "output_type": "display_data"
    }
   ],
   "source": [
    "cities = {'Cologne': 1056000, 'Berlin': 3451000, 'Hamburg': 1841000}\n",
    "\n",
    "s = pd.Series(cities.values(), cities.keys())\n",
    "\n",
    "def exp_growth_gen(s, start=2022, end=2027, p=3):\n",
    "    end = int(max(start+1, end))\n",
    "    year = start\n",
    "    while year <= end:\n",
    "        s.name = str(year)\n",
    "        yield s      \n",
    "        s = s.apply(lambda count: int(count * (1 + p/100)))\n",
    "        year += 1\n",
    "\n",
    "gen = exp_growth_gen(s, end=2056)\n",
    "df = pd.concat(list(gen), axis=1)\n",
    "df.T.plot()"
   ]
  },
  {
   "cell_type": "code",
   "execution_count": 11,
   "id": "584ebd5c",
   "metadata": {},
   "outputs": [
    {
     "data": {
      "text/html": [
       "<div>\n",
       "<style scoped>\n",
       "    .dataframe tbody tr th:only-of-type {\n",
       "        vertical-align: middle;\n",
       "    }\n",
       "\n",
       "    .dataframe tbody tr th {\n",
       "        vertical-align: top;\n",
       "    }\n",
       "\n",
       "    .dataframe thead th {\n",
       "        text-align: right;\n",
       "    }\n",
       "</style>\n",
       "<table border=\"1\" class=\"dataframe\">\n",
       "  <thead>\n",
       "    <tr style=\"text-align: right;\">\n",
       "      <th></th>\n",
       "      <th>Population</th>\n",
       "      <th>Country</th>\n",
       "      <th>Area</th>\n",
       "    </tr>\n",
       "  </thead>\n",
       "  <tbody>\n",
       "    <tr>\n",
       "      <th>Cologne</th>\n",
       "      <td>1056000</td>\n",
       "      <td>Germany</td>\n",
       "      <td>1235</td>\n",
       "    </tr>\n",
       "    <tr>\n",
       "      <th>London</th>\n",
       "      <td>3451000</td>\n",
       "      <td>England</td>\n",
       "      <td>1365</td>\n",
       "    </tr>\n",
       "    <tr>\n",
       "      <th>New York City</th>\n",
       "      <td>8380000</td>\n",
       "      <td>USA</td>\n",
       "      <td>1923</td>\n",
       "    </tr>\n",
       "    <tr>\n",
       "      <th>Helsinki</th>\n",
       "      <td>631000</td>\n",
       "      <td>Finland</td>\n",
       "      <td>2135</td>\n",
       "    </tr>\n",
       "    <tr>\n",
       "      <th>Paris</th>\n",
       "      <td>1841000</td>\n",
       "      <td>France</td>\n",
       "      <td>8657</td>\n",
       "    </tr>\n",
       "  </tbody>\n",
       "</table>\n",
       "</div>"
      ],
      "text/plain": [
       "               Population  Country  Area\n",
       "Cologne           1056000  Germany  1235\n",
       "London            3451000  England  1365\n",
       "New York City     8380000      USA  1923\n",
       "Helsinki           631000  Finland  2135\n",
       "Paris             1841000   France  8657"
      ]
     },
     "execution_count": 11,
     "metadata": {},
     "output_type": "execute_result"
    }
   ],
   "source": [
    "cities = {'Cologne': [1056000, 'Germany'], \n",
    "          'London': [3451000, 'England'], \n",
    "          'Paris': [1841000, 'France'],\n",
    "          'Helsinki': [631000, 'Finland'],\n",
    "          'New York City': [8380000, 'USA']}\n",
    "\n",
    "df = pd.DataFrame.from_dict(cities, orient='index', columns=['Population', 'Country'])\n",
    "\n",
    "df.insert(2, 'Area', [1235, 1365, 8657, 2135, 1923])\n",
    "df.sort_values(by='Area', ascending=True)"
   ]
  },
  {
   "cell_type": "code",
   "execution_count": 24,
   "id": "953ed252",
   "metadata": {},
   "outputs": [],
   "source": [
    "def kde_plot(data, covariance_factor=.25):\n",
    "    mean_num_fires = np.mean(data)\n",
    "    std_num_fires = np.std(data)\n",
    "\n",
    "    density = gaussian_kde(data)\n",
    "    density.covariance_factor = lambda : .25\n",
    "    density._compute_covariance()\n",
    "    \n",
    "    fig = plt.figure()\n",
    "    ax = plt.gca()    \n",
    "    x = np.linspace(0,max(data) * 1.1,1000)\n",
    "    ax.plot(x, density(x))\n",
    "    ax.axvline(x=mean_num_fires, color='k')\n",
    "    ax.axvspan(0, mean_num_fires - 0.5 * std_num_fires, alpha=0.3, color='green')\n",
    "    ax.axvspan(mean_num_fires - 0.5 * std_num_fires, mean_num_fires + 0.5 * std_num_fires, alpha=0.3, color='yellow')\n",
    "    ax.axvspan(mean_num_fires + 0.5 * std_num_fires, max(data), alpha=0.3, color='red')"
   ]
  },
  {
   "cell_type": "code",
   "execution_count": 25,
   "id": "ddf2ef41",
   "metadata": {
    "scrolled": true
   },
   "outputs": [
    {
     "name": "stdout",
     "output_type": "stream",
     "text": [
      "('Acre', 'Abril'): green [0.55]\n",
      "('Acre', 'Agosto'): red [1.0]\n",
      "('Acre', 'Dezembro'): yellow [0.631578947368421]\n",
      "('Acre', 'Fevereiro'): green [0.35]\n",
      "('Acre', 'Janeiro'): green [0.3]\n",
      "('Acre', 'Julho'): red [1.0]\n",
      "('Acre', 'Junho'): yellow [0.75]\n",
      "('Acre', 'Maio'): yellow [0.75]\n",
      "('Acre', 'Março'): green [0.4]\n",
      "('Acre', 'Novembro'): red [0.85]\n",
      "('Acre', 'Outubro'): red [1.0]\n",
      "('Acre', 'Setembro'): red [1.0]\n",
      "('Alagoas', 'Abril'): red [0.9]\n",
      "('Alagoas', 'Agosto'): yellow [0.8235294117647058]\n",
      "('Alagoas', 'Fevereiro'): red [0.95]\n",
      "('Alagoas', 'Janeiro'): red [0.9523809523809523]\n",
      "('Alagoas', 'Julho'): green [0.2]\n",
      "('Alagoas', 'Junho'): green [0.4]\n",
      "('Alagoas', 'Maio'): yellow [0.6]\n",
      "('Alagoas', 'Março'): red [0.9]\n"
     ]
    }
   ],
   "source": [
    "# load excel file\n",
    "df = pd.read_excel(r'C:\\Users\\jastr\\Desktop\\Waldbraende.xlsx', usecols=[1,2,3,4,5], skiprows=1)\n",
    "df.columns = ['year', 'state', 'month', 'num_fires', 'report_date']\n",
    "\n",
    "# calculate, for each state-month combination, the propability of at least one fire happening\n",
    "prob_dict = {key: (group['num_fires'] > 0).sum() / group.shape[0] for key, group in df.groupby(['state', 'month'])}\n",
    "\n",
    "# some stats\n",
    "prob_data = list(prob_dict.values()) \n",
    "mean_num_fires = np.mean(prob_data)\n",
    "std_num_fires = np.std(prob_data)\n",
    "\n",
    "# risk calculation via z-score\n",
    "def risk(state, month):\n",
    "    z_score = (prob_dict[(state, month)] - mean_num_fires) / std_num_fires\n",
    "    if z_score < -0.5:\n",
    "        return 'green'\n",
    "    elif z_score < 0.5:\n",
    "        return 'yellow'\n",
    "    else:\n",
    "        return 'red'\n",
    "    \n",
    "[print(f'{key}: {risk(*key)} [{value}]') for key, value in prob_dict.items()]; # suppresses output"
   ]
  },
  {
   "cell_type": "code",
   "execution_count": 26,
   "id": "354bf672",
   "metadata": {},
   "outputs": [
    {
     "data": {
      "image/png": "[encoded data removed]",
      "text/plain": [
       "<Figure size 432x288 with 1 Axes>"
      ]
     },
     "metadata": {
      "needs_background": "light"
     },
     "output_type": "display_data"
    }
   ],
   "source": [
    "kde_plot(prob_data)\n",
    "plt.show()"
   ]
  },
  {
   "cell_type": "code",
   "execution_count": 27,
   "id": "a4cbfdef",
   "metadata": {},
   "outputs": [
    {
     "name": "stdout",
     "output_type": "stream",
     "text": [
      "('Acre', 'Abril'): yellow [2.05]\n",
      "('Acre', 'Agosto'): red [3138.95]\n",
      "('Acre', 'Dezembro'): yellow [2.473684210526316]\n",
      "('Acre', 'Fevereiro'): yellow [0.95]\n",
      "('Acre', 'Janeiro'): yellow [2.0]\n",
      "('Acre', 'Julho'): yellow [114.8]\n",
      "('Acre', 'Junho'): yellow [12.85]\n",
      "('Acre', 'Maio'): yellow [4.05]\n",
      "('Acre', 'Março'): yellow [1.15]\n",
      "('Acre', 'Novembro'): yellow [35.4]\n",
      "('Acre', 'Outubro'): yellow [437.65]\n",
      "('Acre', 'Setembro'): red [4676.85]\n",
      "('Alagoas', 'Abril'): yellow [12.25]\n",
      "('Alagoas', 'Agosto'): yellow [1.8235294117647058]\n",
      "('Alagoas', 'Fevereiro'): yellow [25.15]\n",
      "('Alagoas', 'Janeiro'): yellow [44.42857142857143]\n",
      "('Alagoas', 'Julho'): yellow [0.55]\n",
      "('Alagoas', 'Junho'): yellow [1.0]\n",
      "('Alagoas', 'Maio'): yellow [2.8]\n",
      "('Alagoas', 'Março'): yellow [27.7]\n"
     ]
    }
   ],
   "source": [
    "# load excel file\n",
    "df = pd.read_excel(r'C:\\Users\\jastr\\Desktop\\Waldbraende.xlsx', usecols=[1,2,3,4,5], skiprows=1)\n",
    "df.columns = ['year', 'state', 'month', 'num_fires', 'report_date']\n",
    "\n",
    "# count, for each state-month combination, # of fires / # of rows\n",
    "occurence_dict = {key: group['num_fires'].sum() / group.shape[0] for key, group in df.groupby(['state', 'month'])}\n",
    "\n",
    "# some stats\n",
    "occurence_data = list(occurence_dict.values()) \n",
    "mean_num_fires = np.mean(occurence_data)\n",
    "std_num_fires = np.std(occurence_data)\n",
    "\n",
    "# risk calculation via z-score\n",
    "def risk(state, month):\n",
    "    z_score = (occurence_dict[(state, month)] - mean_num_fires) / std_num_fires\n",
    "    if z_score < -0.5:\n",
    "        return 'green'\n",
    "    elif z_score < 0.5:\n",
    "        return 'yellow'\n",
    "    else:\n",
    "        return 'red'\n",
    "    \n",
    "[print(f'{key}: {risk(*key)} [{value}]') for key, value in occurence_dict.items()]; # suppresses output"
   ]
  },
  {
   "cell_type": "code",
   "execution_count": 28,
   "id": "3d73d8a8",
   "metadata": {},
   "outputs": [
    {
     "data": {
      "image/png": "[encoded data removed]",
      "text/plain": [
       "<Figure size 432x288 with 1 Axes>"
      ]
     },
     "metadata": {
      "needs_background": "light"
     },
     "output_type": "display_data"
    }
   ],
   "source": [
    "kde_plot(occurence_data)\n",
    "plt.show()"
   ]
  },
  {
   "cell_type": "code",
   "execution_count": null,
   "id": "a8984e1e",
   "metadata": {},
   "outputs": [],
   "source": []
  }
 ],
 "metadata": {
  "kernelspec": {
   "display_name": "Python 3 (ipykernel)",
   "language": "python",
   "name": "python3"
  },
  "language_info": {
   "codemirror_mode": {
    "name": "ipython",
    "version": 3
   },
   "file_extension": ".py",
   "mimetype": "text/x-python",
   "name": "python",
   "nbconvert_exporter": "python",
   "pygments_lexer": "ipython3",
   "version": "3.9.12"
  }
 },
 "nbformat": 4,
 "nbformat_minor": 5
}
